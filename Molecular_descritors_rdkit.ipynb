{
  "nbformat": 4,
  "nbformat_minor": 0,
  "metadata": {
    "colab": {
      "provenance": []
    },
    "kernelspec": {
      "name": "python3",
      "display_name": "Python 3"
    },
    "language_info": {
      "name": "python"
    }
  },
  "cells": [
    {
      "cell_type": "code",
      "execution_count": null,
      "metadata": {
        "id": "m_0Eu9FtiSre"
      },
      "outputs": [],
      "source": [
        "# Install RDKit.\n",
        "%%capture\n",
        "!pip install rdkit-pypi"
      ]
    },
    {
      "cell_type": "code",
      "source": [
        "# Importing Libraries\n",
        "import pandas as pd\n",
        "import warnings\n",
        "\n",
        "from rdkit import Chem\n",
        "from rdkit.Chem import Draw\n",
        "from rdkit.Chem import Descriptors\n",
        "from rdkit.Chem import AllChem, PandasTools\n",
        "from rdkit.ML.Descriptors import MoleculeDescriptors\n",
        "\n",
        "warnings.filterwarnings(\"ignore\")"
      ],
      "metadata": {
        "id": "44YFmi_LilcR"
      },
      "execution_count": null,
      "outputs": []
    },
    {
      "cell_type": "code",
      "source": [
        "df = pd.read_excel('/content/Heteroaromatics.xlsx')"
      ],
      "metadata": {
        "id": "EJaib2nWk36_"
      },
      "execution_count": null,
      "outputs": []
    },
    {
      "cell_type": "code",
      "source": [
        "df.head()"
      ],
      "metadata": {
        "id": "xal-_OIz4tWs"
      },
      "execution_count": null,
      "outputs": []
    },
    {
      "cell_type": "code",
      "source": [
        "# Creating molecular object from Smiles\n",
        "\n",
        "# PandasTools.AddMoleculeColumnToFrame(df,'Smiles','mol')"
      ],
      "metadata": {
        "id": "tIjrGXfbk4iQ"
      },
      "execution_count": null,
      "outputs": []
    },
    {
      "cell_type": "code",
      "source": [
        "df"
      ],
      "metadata": {
        "id": "MWpZ60NglHRP"
      },
      "execution_count": null,
      "outputs": []
    },
    {
      "cell_type": "markdown",
      "source": [
        "**Create an object of the molecule descriptor class**"
      ],
      "metadata": {
        "id": "zoterxM4AIXs"
      }
    },
    {
      "cell_type": "code",
      "source": [
        "mol_list = []\n",
        "\n",
        "for smile in df['Smiles']:\n",
        "  mol = Chem.MolFromSmiles(smile)\n",
        "  mol = Chem.AddHs(mol)\n",
        "  mol_list.append(mol)\n",
        "\n",
        "df = pd.concat([df, pd.DataFrame(mol_list, columns = (['mol']))], axis=1)"
      ],
      "metadata": {
        "id": "Pc3QCXpv7b1q"
      },
      "execution_count": null,
      "outputs": []
    },
    {
      "cell_type": "code",
      "source": [
        "df.head()"
      ],
      "metadata": {
        "id": "uvo_cdTV7rs2"
      },
      "execution_count": null,
      "outputs": []
    },
    {
      "cell_type": "code",
      "source": [
        "Draw.MolsToGridImage(df['mol'][:8],molsPerRow=4,subImgSize=(200,200))"
      ],
      "metadata": {
        "id": "kS7akUCh7xxS"
      },
      "execution_count": null,
      "outputs": []
    },
    {
      "cell_type": "markdown",
      "source": [
        "## **Generating Molecular Descriptors Using RDKit**"
      ],
      "metadata": {
        "id": "9dhvpOWKyIkn"
      }
    },
    {
      "cell_type": "markdown",
      "source": [
        "**Create an instance of the class to print names and number of descriptors**"
      ],
      "metadata": {
        "id": "b6KxQpkcupis"
      }
    },
    {
      "cell_type": "code",
      "source": [
        "Desc_list_func = MoleculeDescriptors.MolecularDescriptorCalculator(x[0] for x in Descriptors._descList)"
      ],
      "metadata": {
        "id": "4rmbY6DGnHAN"
      },
      "execution_count": null,
      "outputs": []
    },
    {
      "cell_type": "code",
      "source": [
        "Desc_list_func"
      ],
      "metadata": {
        "id": "tTzH9nwd6Cxs"
      },
      "execution_count": null,
      "outputs": []
    },
    {
      "cell_type": "markdown",
      "source": [
        "**Call the instance to get names**\n",
        "\n",
        "\n"
      ],
      "metadata": {
        "id": "tf-tUdcpAb6N"
      }
    },
    {
      "cell_type": "code",
      "source": [
        "names = Desc_list_func.GetDescriptorNames()\n"
      ],
      "metadata": {
        "id": "cD4PQyUSrHVo"
      },
      "execution_count": null,
      "outputs": []
    },
    {
      "cell_type": "markdown",
      "source": [
        "**Print the names of descriptors**"
      ],
      "metadata": {
        "id": "A2Q5HW7SAufc"
      }
    },
    {
      "cell_type": "code",
      "source": [
        "names"
      ],
      "metadata": {
        "colab": {
          "base_uri": "https://localhost:8080/"
        },
        "id": "8i6vl8gYy_WR",
        "outputId": "5b01e047-9015-45fa-ffbc-acf4684c660e"
      },
      "execution_count": 31,
      "outputs": [
        {
          "output_type": "execute_result",
          "data": {
            "text/plain": [
              "('MaxEStateIndex',\n",
              " 'MinEStateIndex',\n",
              " 'MaxAbsEStateIndex',\n",
              " 'MinAbsEStateIndex',\n",
              " 'qed',\n",
              " 'MolWt',\n",
              " 'HeavyAtomMolWt',\n",
              " 'ExactMolWt',\n",
              " 'NumValenceElectrons',\n",
              " 'NumRadicalElectrons',\n",
              " 'MaxPartialCharge',\n",
              " 'MinPartialCharge',\n",
              " 'MaxAbsPartialCharge',\n",
              " 'MinAbsPartialCharge',\n",
              " 'FpDensityMorgan1',\n",
              " 'FpDensityMorgan2',\n",
              " 'FpDensityMorgan3',\n",
              " 'BCUT2D_MWHI',\n",
              " 'BCUT2D_MWLOW',\n",
              " 'BCUT2D_CHGHI',\n",
              " 'BCUT2D_CHGLO',\n",
              " 'BCUT2D_LOGPHI',\n",
              " 'BCUT2D_LOGPLOW',\n",
              " 'BCUT2D_MRHI',\n",
              " 'BCUT2D_MRLOW',\n",
              " 'BalabanJ',\n",
              " 'BertzCT',\n",
              " 'Chi0',\n",
              " 'Chi0n',\n",
              " 'Chi0v',\n",
              " 'Chi1',\n",
              " 'Chi1n',\n",
              " 'Chi1v',\n",
              " 'Chi2n',\n",
              " 'Chi2v',\n",
              " 'Chi3n',\n",
              " 'Chi3v',\n",
              " 'Chi4n',\n",
              " 'Chi4v',\n",
              " 'HallKierAlpha',\n",
              " 'Ipc',\n",
              " 'Kappa1',\n",
              " 'Kappa2',\n",
              " 'Kappa3',\n",
              " 'LabuteASA',\n",
              " 'PEOE_VSA1',\n",
              " 'PEOE_VSA10',\n",
              " 'PEOE_VSA11',\n",
              " 'PEOE_VSA12',\n",
              " 'PEOE_VSA13',\n",
              " 'PEOE_VSA14',\n",
              " 'PEOE_VSA2',\n",
              " 'PEOE_VSA3',\n",
              " 'PEOE_VSA4',\n",
              " 'PEOE_VSA5',\n",
              " 'PEOE_VSA6',\n",
              " 'PEOE_VSA7',\n",
              " 'PEOE_VSA8',\n",
              " 'PEOE_VSA9',\n",
              " 'SMR_VSA1',\n",
              " 'SMR_VSA10',\n",
              " 'SMR_VSA2',\n",
              " 'SMR_VSA3',\n",
              " 'SMR_VSA4',\n",
              " 'SMR_VSA5',\n",
              " 'SMR_VSA6',\n",
              " 'SMR_VSA7',\n",
              " 'SMR_VSA8',\n",
              " 'SMR_VSA9',\n",
              " 'SlogP_VSA1',\n",
              " 'SlogP_VSA10',\n",
              " 'SlogP_VSA11',\n",
              " 'SlogP_VSA12',\n",
              " 'SlogP_VSA2',\n",
              " 'SlogP_VSA3',\n",
              " 'SlogP_VSA4',\n",
              " 'SlogP_VSA5',\n",
              " 'SlogP_VSA6',\n",
              " 'SlogP_VSA7',\n",
              " 'SlogP_VSA8',\n",
              " 'SlogP_VSA9',\n",
              " 'TPSA',\n",
              " 'EState_VSA1',\n",
              " 'EState_VSA10',\n",
              " 'EState_VSA11',\n",
              " 'EState_VSA2',\n",
              " 'EState_VSA3',\n",
              " 'EState_VSA4',\n",
              " 'EState_VSA5',\n",
              " 'EState_VSA6',\n",
              " 'EState_VSA7',\n",
              " 'EState_VSA8',\n",
              " 'EState_VSA9',\n",
              " 'VSA_EState1',\n",
              " 'VSA_EState10',\n",
              " 'VSA_EState2',\n",
              " 'VSA_EState3',\n",
              " 'VSA_EState4',\n",
              " 'VSA_EState5',\n",
              " 'VSA_EState6',\n",
              " 'VSA_EState7',\n",
              " 'VSA_EState8',\n",
              " 'VSA_EState9',\n",
              " 'FractionCSP3',\n",
              " 'HeavyAtomCount',\n",
              " 'NHOHCount',\n",
              " 'NOCount',\n",
              " 'NumAliphaticCarbocycles',\n",
              " 'NumAliphaticHeterocycles',\n",
              " 'NumAliphaticRings',\n",
              " 'NumAromaticCarbocycles',\n",
              " 'NumAromaticHeterocycles',\n",
              " 'NumAromaticRings',\n",
              " 'NumHAcceptors',\n",
              " 'NumHDonors',\n",
              " 'NumHeteroatoms',\n",
              " 'NumRotatableBonds',\n",
              " 'NumSaturatedCarbocycles',\n",
              " 'NumSaturatedHeterocycles',\n",
              " 'NumSaturatedRings',\n",
              " 'RingCount',\n",
              " 'MolLogP',\n",
              " 'MolMR',\n",
              " 'fr_Al_COO',\n",
              " 'fr_Al_OH',\n",
              " 'fr_Al_OH_noTert',\n",
              " 'fr_ArN',\n",
              " 'fr_Ar_COO',\n",
              " 'fr_Ar_N',\n",
              " 'fr_Ar_NH',\n",
              " 'fr_Ar_OH',\n",
              " 'fr_COO',\n",
              " 'fr_COO2',\n",
              " 'fr_C_O',\n",
              " 'fr_C_O_noCOO',\n",
              " 'fr_C_S',\n",
              " 'fr_HOCCN',\n",
              " 'fr_Imine',\n",
              " 'fr_NH0',\n",
              " 'fr_NH1',\n",
              " 'fr_NH2',\n",
              " 'fr_N_O',\n",
              " 'fr_Ndealkylation1',\n",
              " 'fr_Ndealkylation2',\n",
              " 'fr_Nhpyrrole',\n",
              " 'fr_SH',\n",
              " 'fr_aldehyde',\n",
              " 'fr_alkyl_carbamate',\n",
              " 'fr_alkyl_halide',\n",
              " 'fr_allylic_oxid',\n",
              " 'fr_amide',\n",
              " 'fr_amidine',\n",
              " 'fr_aniline',\n",
              " 'fr_aryl_methyl',\n",
              " 'fr_azide',\n",
              " 'fr_azo',\n",
              " 'fr_barbitur',\n",
              " 'fr_benzene',\n",
              " 'fr_benzodiazepine',\n",
              " 'fr_bicyclic',\n",
              " 'fr_diazo',\n",
              " 'fr_dihydropyridine',\n",
              " 'fr_epoxide',\n",
              " 'fr_ester',\n",
              " 'fr_ether',\n",
              " 'fr_furan',\n",
              " 'fr_guanido',\n",
              " 'fr_halogen',\n",
              " 'fr_hdrzine',\n",
              " 'fr_hdrzone',\n",
              " 'fr_imidazole',\n",
              " 'fr_imide',\n",
              " 'fr_isocyan',\n",
              " 'fr_isothiocyan',\n",
              " 'fr_ketone',\n",
              " 'fr_ketone_Topliss',\n",
              " 'fr_lactam',\n",
              " 'fr_lactone',\n",
              " 'fr_methoxy',\n",
              " 'fr_morpholine',\n",
              " 'fr_nitrile',\n",
              " 'fr_nitro',\n",
              " 'fr_nitro_arom',\n",
              " 'fr_nitro_arom_nonortho',\n",
              " 'fr_nitroso',\n",
              " 'fr_oxazole',\n",
              " 'fr_oxime',\n",
              " 'fr_para_hydroxylation',\n",
              " 'fr_phenol',\n",
              " 'fr_phenol_noOrthoHbond',\n",
              " 'fr_phos_acid',\n",
              " 'fr_phos_ester',\n",
              " 'fr_piperdine',\n",
              " 'fr_piperzine',\n",
              " 'fr_priamide',\n",
              " 'fr_prisulfonamd',\n",
              " 'fr_pyridine',\n",
              " 'fr_quatN',\n",
              " 'fr_sulfide',\n",
              " 'fr_sulfonamd',\n",
              " 'fr_sulfone',\n",
              " 'fr_term_acetylene',\n",
              " 'fr_tetrazole',\n",
              " 'fr_thiazole',\n",
              " 'fr_thiocyan',\n",
              " 'fr_thiophene',\n",
              " 'fr_unbrch_alkane',\n",
              " 'fr_urea')"
            ]
          },
          "metadata": {},
          "execution_count": 31
        }
      ]
    },
    {
      "cell_type": "markdown",
      "source": [
        "**Print the number of descriptors**"
      ],
      "metadata": {
        "id": "LfvQTuiyAz_Y"
      }
    },
    {
      "cell_type": "code",
      "source": [
        "len(names)"
      ],
      "metadata": {
        "colab": {
          "base_uri": "https://localhost:8080/"
        },
        "id": "hMx5WQSWysDA",
        "outputId": "d6c0f9a5-85d6-4172-f4f9-7e8b4824e258"
      },
      "execution_count": 32,
      "outputs": [
        {
          "output_type": "execute_result",
          "data": {
            "text/plain": [
              "208"
            ]
          },
          "metadata": {},
          "execution_count": 32
        }
      ]
    },
    {
      "cell_type": "markdown",
      "source": [
        "**Again create an object of the molecule descriptor class**\n",
        "\n",
        "1.   Get Summary of the descriptors\n",
        "2.   Generate molecular descriptors\n",
        "\n"
      ],
      "metadata": {
        "id": "fMPr6NoOA72t"
      }
    },
    {
      "cell_type": "code",
      "source": [
        "MoleculeDescriptors.MolecularDescriptorCalculator(['MolLogP']).GetDescriptorSummaries()"
      ],
      "metadata": {
        "colab": {
          "base_uri": "https://localhost:8080/"
        },
        "id": "Ub3NBQIcySed",
        "outputId": "2958f023-2627-446b-8d09-19203ca0a4aa"
      },
      "execution_count": 33,
      "outputs": [
        {
          "output_type": "execute_result",
          "data": {
            "text/plain": [
              "['Wildman-Crippen LogP value']"
            ]
          },
          "metadata": {},
          "execution_count": 33
        }
      ]
    },
    {
      "cell_type": "code",
      "source": [
        "# create another instance for calculating molecular descriptors\n",
        "\n",
        "Des_func = MoleculeDescriptors.MolecularDescriptorCalculator(['NumHeteroatoms', 'NumHDonors'])"
      ],
      "metadata": {
        "id": "zayb-O-Uuq-0"
      },
      "execution_count": 43,
      "outputs": []
    },
    {
      "cell_type": "code",
      "source": [
        "Des_func"
      ],
      "metadata": {
        "colab": {
          "base_uri": "https://localhost:8080/"
        },
        "id": "OOFXmbGbvzmu",
        "outputId": "e4527204-21de-44eb-e3e3-001fbba075bc"
      },
      "execution_count": 44,
      "outputs": [
        {
          "output_type": "execute_result",
          "data": {
            "text/plain": [
              "<rdkit.ML.Descriptors.MoleculeDescriptors.MolecularDescriptorCalculator at 0x7ee5b563b0a0>"
            ]
          },
          "metadata": {},
          "execution_count": 44
        }
      ]
    },
    {
      "cell_type": "markdown",
      "source": [
        "**Calculate one descriptor for a sinlge molecule**"
      ],
      "metadata": {
        "id": "k-5m4LI0wpAE"
      }
    },
    {
      "cell_type": "code",
      "source": [
        "display(Draw.MolToImage(df['mol'][12]))\n",
        "Des_func.CalcDescriptors(df['mol'][12])"
      ],
      "metadata": {
        "colab": {
          "base_uri": "https://localhost:8080/",
          "height": 334
        },
        "id": "yi1se5mT7YVY",
        "outputId": "a42fa585-0b65-4ea7-fd58-93edc57b7b0c"
      },
      "execution_count": 39,
      "outputs": [
        {
          "output_type": "display_data",
          "data": {
            "text/plain": [
              "<PIL.PngImagePlugin.PngImageFile image mode=RGB size=300x300>"
            ],
            "image/png": "[encoded data removed]"
          },
          "metadata": {}
        },
        {
          "output_type": "execute_result",
          "data": {
            "text/plain": [
              "(6,)"
            ]
          },
          "metadata": {},
          "execution_count": 39
        }
      ]
    },
    {
      "cell_type": "markdown",
      "source": [
        "**Calculate one or more descriptor for the whole dataset**"
      ],
      "metadata": {
        "id": "mQGo3qvdxBH5"
      }
    },
    {
      "cell_type": "code",
      "source": [
        "des = []\n",
        "\n",
        "for mol in df['mol']:\n",
        "  des.append(Des_func.CalcDescriptors(mol))"
      ],
      "metadata": {
        "id": "PxnPKBVwqfpF"
      },
      "execution_count": 45,
      "outputs": []
    },
    {
      "cell_type": "code",
      "source": [
        "Final_df = pd.concat([df, pd.DataFrame(des, columns=(['NumHeteroatoms', 'NumHDonors']))], axis=1)\n"
      ],
      "metadata": {
        "id": "lOqDPk49u6tP"
      },
      "execution_count": 46,
      "outputs": []
    },
    {
      "cell_type": "code",
      "source": [
        "Final_df.head()"
      ],
      "metadata": {
        "colab": {
          "base_uri": "https://localhost:8080/",
          "height": 206
        },
        "id": "7-L7D2lKy9mm",
        "outputId": "6e6c4b65-79b4-4e7d-d743-ff11150f8381"
      },
      "execution_count": 47,
      "outputs": [
        {
          "output_type": "execute_result",
          "data": {
            "text/plain": [
              "         Smiles                                               mol  \\\n",
              "0    CN1C=CC=C1  <rdkit.Chem.rdchem.Mol object at 0x7ee5b5629310>   \n",
              "1     C1=CC=CN1  <rdkit.Chem.rdchem.Mol object at 0x7ee5b5629070>   \n",
              "2   C1=CN=CC=C1  <rdkit.Chem.rdchem.Mol object at 0x7ee5b5628d60>   \n",
              "3  CC1=NC=CC=C1  <rdkit.Chem.rdchem.Mol object at 0x7ee5b56291c0>   \n",
              "4  CC1=CC=NC=C1  <rdkit.Chem.rdchem.Mol object at 0x7ee5b5628c80>   \n",
              "\n",
              "   NumHeteroatoms  NumHDonors  \n",
              "0               1           0  \n",
              "1               1           1  \n",
              "2               1           0  \n",
              "3               1           0  \n",
              "4               1           0  "
            ],
            "text/html": [
              "\n",
              "  <div id=\"df-412af76f-faa5-43b8-add0-6ad4d26ad76d\" class=\"colab-df-container\">\n",
              "    <div>\n",
              "<style scoped>\n",
              "    .dataframe tbody tr th:only-of-type {\n",
              "        vertical-align: middle;\n",
              "    }\n",
              "\n",
              "    .dataframe tbody tr th {\n",
              "        vertical-align: top;\n",
              "    }\n",
              "\n",
              "    .dataframe thead th {\n",
              "        text-align: right;\n",
              "    }\n",
              "</style>\n",
              "<table border=\"1\" class=\"dataframe\">\n",
              "  <thead>\n",
              "    <tr style=\"text-align: right;\">\n",
              "      <th></th>\n",
              "      <th>Smiles</th>\n",
              "      <th>mol</th>\n",
              "      <th>NumHeteroatoms</th>\n",
              "      <th>NumHDonors</th>\n",
              "    </tr>\n",
              "  </thead>\n",
              "  <tbody>\n",
              "    <tr>\n",
              "      <th>0</th>\n",
              "      <td>CN1C=CC=C1</td>\n",
              "      <td>&lt;rdkit.Chem.rdchem.Mol object at 0x7ee5b5629310&gt;</td>\n",
              "      <td>1</td>\n",
              "      <td>0</td>\n",
              "    </tr>\n",
              "    <tr>\n",
              "      <th>1</th>\n",
              "      <td>C1=CC=CN1</td>\n",
              "      <td>&lt;rdkit.Chem.rdchem.Mol object at 0x7ee5b5629070&gt;</td>\n",
              "      <td>1</td>\n",
              "      <td>1</td>\n",
              "    </tr>\n",
              "    <tr>\n",
              "      <th>2</th>\n",
              "      <td>C1=CN=CC=C1</td>\n",
              "      <td>&lt;rdkit.Chem.rdchem.Mol object at 0x7ee5b5628d60&gt;</td>\n",
              "      <td>1</td>\n",
              "      <td>0</td>\n",
              "    </tr>\n",
              "    <tr>\n",
              "      <th>3</th>\n",
              "      <td>CC1=NC=CC=C1</td>\n",
              "      <td>&lt;rdkit.Chem.rdchem.Mol object at 0x7ee5b56291c0&gt;</td>\n",
              "      <td>1</td>\n",
              "      <td>0</td>\n",
              "    </tr>\n",
              "    <tr>\n",
              "      <th>4</th>\n",
              "      <td>CC1=CC=NC=C1</td>\n",
              "      <td>&lt;rdkit.Chem.rdchem.Mol object at 0x7ee5b5628c80&gt;</td>\n",
              "      <td>1</td>\n",
              "      <td>0</td>\n",
              "    </tr>\n",
              "  </tbody>\n",
              "</table>\n",
              "</div>\n",
              "    <div class=\"colab-df-buttons\">\n",
              "\n",
              "  <div class=\"colab-df-container\">\n",
              "    <button class=\"colab-df-convert\" onclick=\"convertToInteractive('df-412af76f-faa5-43b8-add0-6ad4d26ad76d')\"\n",
              "            title=\"Convert this dataframe to an interactive table.\"\n",
              "            style=\"display:none;\">\n",
              "\n",
              "  <svg xmlns=\"http://www.w3.org/2000/svg\" height=\"24px\" viewBox=\"0 -960 960 960\">\n",
              "    <path d=\"M120-120v-720h720v720H120Zm60-500h600v-160H180v160Zm220 220h160v-160H400v160Zm0 220h160v-160H400v160ZM180-400h160v-160H180v160Zm440 0h160v-160H620v160ZM180-180h160v-160H180v160Zm440 0h160v-160H620v160Z\"/>\n",
              "  </svg>\n",
              "    </button>\n",
              "\n",
              "  <style>\n",
              "    .colab-df-container {\n",
              "      display:flex;\n",
              "      gap: 12px;\n",
              "    }\n",
              "\n",
              "    .colab-df-convert {\n",
              "      background-color: #E8F0FE;\n",
              "      border: none;\n",
              "      border-radius: 50%;\n",
              "      cursor: pointer;\n",
              "      display: none;\n",
              "      fill: #1967D2;\n",
              "      height: 32px;\n",
              "      padding: 0 0 0 0;\n",
              "      width: 32px;\n",
              "    }\n",
              "\n",
              "    .colab-df-convert:hover {\n",
              "      background-color: #E2EBFA;\n",
              "      box-shadow: 0px 1px 2px rgba(60, 64, 67, 0.3), 0px 1px 3px 1px rgba(60, 64, 67, 0.15);\n",
              "      fill: #174EA6;\n",
              "    }\n",
              "\n",
              "    .colab-df-buttons div {\n",
              "      margin-bottom: 4px;\n",
              "    }\n",
              "\n",
              "    [theme=dark] .colab-df-convert {\n",
              "      background-color: #3B4455;\n",
              "      fill: #D2E3FC;\n",
              "    }\n",
              "\n",
              "    [theme=dark] .colab-df-convert:hover {\n",
              "      background-color: #434B5C;\n",
              "      box-shadow: 0px 1px 3px 1px rgba(0, 0, 0, 0.15);\n",
              "      filter: drop-shadow(0px 1px 2px rgba(0, 0, 0, 0.3));\n",
              "      fill: #FFFFFF;\n",
              "    }\n",
              "  </style>\n",
              "\n",
              "    <script>\n",
              "      const buttonEl =\n",
              "        document.querySelector('#df-412af76f-faa5-43b8-add0-6ad4d26ad76d button.colab-df-convert');\n",
              "      buttonEl.style.display =\n",
              "        google.colab.kernel.accessAllowed ? 'block' : 'none';\n",
              "\n",
              "      async function convertToInteractive(key) {\n",
              "        const element = document.querySelector('#df-412af76f-faa5-43b8-add0-6ad4d26ad76d');\n",
              "        const dataTable =\n",
              "          await google.colab.kernel.invokeFunction('convertToInteractive',\n",
              "                                                    [key], {});\n",
              "        if (!dataTable) return;\n",
              "\n",
              "        const docLinkHtml = 'Like what you see? Visit the ' +\n",
              "          '<a target=\"_blank\" href=https://colab.research.google.com/notebooks/data_table.ipynb>data table notebook</a>'\n",
              "          + ' to learn more about interactive tables.';\n",
              "        element.innerHTML = '';\n",
              "        dataTable['output_type'] = 'display_data';\n",
              "        await google.colab.output.renderOutput(dataTable, element);\n",
              "        const docLink = document.createElement('div');\n",
              "        docLink.innerHTML = docLinkHtml;\n",
              "        element.appendChild(docLink);\n",
              "      }\n",
              "    </script>\n",
              "  </div>\n",
              "\n",
              "\n",
              "<div id=\"df-cf64f736-70d7-4337-869b-5fd541610f46\">\n",
              "  <button class=\"colab-df-quickchart\" onclick=\"quickchart('df-cf64f736-70d7-4337-869b-5fd541610f46')\"\n",
              "            title=\"Suggest charts\"\n",
              "            style=\"display:none;\">\n",
              "\n",
              "<svg xmlns=\"http://www.w3.org/2000/svg\" height=\"24px\"viewBox=\"0 0 24 24\"\n",
              "     width=\"24px\">\n",
              "    <g>\n",
              "        <path d=\"M19 3H5c-1.1 0-2 .9-2 2v14c0 1.1.9 2 2 2h14c1.1 0 2-.9 2-2V5c0-1.1-.9-2-2-2zM9 17H7v-7h2v7zm4 0h-2V7h2v10zm4 0h-2v-4h2v4z\"/>\n",
              "    </g>\n",
              "</svg>\n",
              "  </button>\n",
              "\n",
              "<style>\n",
              "  .colab-df-quickchart {\n",
              "      --bg-color: #E8F0FE;\n",
              "      --fill-color: #1967D2;\n",
              "      --hover-bg-color: #E2EBFA;\n",
              "      --hover-fill-color: #174EA6;\n",
              "      --disabled-fill-color: #AAA;\n",
              "      --disabled-bg-color: #DDD;\n",
              "  }\n",
              "\n",
              "  [theme=dark] .colab-df-quickchart {\n",
              "      --bg-color: #3B4455;\n",
              "      --fill-color: #D2E3FC;\n",
              "      --hover-bg-color: #434B5C;\n",
              "      --hover-fill-color: #FFFFFF;\n",
              "      --disabled-bg-color: #3B4455;\n",
              "      --disabled-fill-color: #666;\n",
              "  }\n",
              "\n",
              "  .colab-df-quickchart {\n",
              "    background-color: var(--bg-color);\n",
              "    border: none;\n",
              "    border-radius: 50%;\n",
              "    cursor: pointer;\n",
              "    display: none;\n",
              "    fill: var(--fill-color);\n",
              "    height: 32px;\n",
              "    padding: 0;\n",
              "    width: 32px;\n",
              "  }\n",
              "\n",
              "  .colab-df-quickchart:hover {\n",
              "    background-color: var(--hover-bg-color);\n",
              "    box-shadow: 0 1px 2px rgba(60, 64, 67, 0.3), 0 1px 3px 1px rgba(60, 64, 67, 0.15);\n",
              "    fill: var(--button-hover-fill-color);\n",
              "  }\n",
              "\n",
              "  .colab-df-quickchart-complete:disabled,\n",
              "  .colab-df-quickchart-complete:disabled:hover {\n",
              "    background-color: var(--disabled-bg-color);\n",
              "    fill: var(--disabled-fill-color);\n",
              "    box-shadow: none;\n",
              "  }\n",
              "\n",
              "  .colab-df-spinner {\n",
              "    border: 2px solid var(--fill-color);\n",
              "    border-color: transparent;\n",
              "    border-bottom-color: var(--fill-color);\n",
              "    animation:\n",
              "      spin 1s steps(1) infinite;\n",
              "  }\n",
              "\n",
              "  @keyframes spin {\n",
              "    0% {\n",
              "      border-color: transparent;\n",
              "      border-bottom-color: var(--fill-color);\n",
              "      border-left-color: var(--fill-color);\n",
              "    }\n",
              "    20% {\n",
              "      border-color: transparent;\n",
              "      border-left-color: var(--fill-color);\n",
              "      border-top-color: var(--fill-color);\n",
              "    }\n",
              "    30% {\n",
              "      border-color: transparent;\n",
              "      border-left-color: var(--fill-color);\n",
              "      border-top-color: var(--fill-color);\n",
              "      border-right-color: var(--fill-color);\n",
              "    }\n",
              "    40% {\n",
              "      border-color: transparent;\n",
              "      border-right-color: var(--fill-color);\n",
              "      border-top-color: var(--fill-color);\n",
              "    }\n",
              "    60% {\n",
              "      border-color: transparent;\n",
              "      border-right-color: var(--fill-color);\n",
              "    }\n",
              "    80% {\n",
              "      border-color: transparent;\n",
              "      border-right-color: var(--fill-color);\n",
              "      border-bottom-color: var(--fill-color);\n",
              "    }\n",
              "    90% {\n",
              "      border-color: transparent;\n",
              "      border-bottom-color: var(--fill-color);\n",
              "    }\n",
              "  }\n",
              "</style>\n",
              "\n",
              "  <script>\n",
              "    async function quickchart(key) {\n",
              "      const quickchartButtonEl =\n",
              "        document.querySelector('#' + key + ' button');\n",
              "      quickchartButtonEl.disabled = true;  // To prevent multiple clicks.\n",
              "      quickchartButtonEl.classList.add('colab-df-spinner');\n",
              "      try {\n",
              "        const charts = await google.colab.kernel.invokeFunction(\n",
              "            'suggestCharts', [key], {});\n",
              "      } catch (error) {\n",
              "        console.error('Error during call to suggestCharts:', error);\n",
              "      }\n",
              "      quickchartButtonEl.classList.remove('colab-df-spinner');\n",
              "      quickchartButtonEl.classList.add('colab-df-quickchart-complete');\n",
              "    }\n",
              "    (() => {\n",
              "      let quickchartButtonEl =\n",
              "        document.querySelector('#df-cf64f736-70d7-4337-869b-5fd541610f46 button');\n",
              "      quickchartButtonEl.style.display =\n",
              "        google.colab.kernel.accessAllowed ? 'block' : 'none';\n",
              "    })();\n",
              "  </script>\n",
              "</div>\n",
              "\n",
              "    </div>\n",
              "  </div>\n"
            ]
          },
          "metadata": {},
          "execution_count": 47
        }
      ]
    },
    {
      "cell_type": "markdown",
      "source": [
        "**Calculate all the descriptor for the whole dataset**"
      ],
      "metadata": {
        "id": "I0Utdb74xVoJ"
      }
    },
    {
      "cell_type": "code",
      "source": [
        "# create another instance for calculating molecular descriptors\n",
        "\n",
        "Des_func = MoleculeDescriptors.MolecularDescriptorCalculator(x[0] for x in Descriptors._descList)"
      ],
      "metadata": {
        "id": "EYoCAql6zVhK"
      },
      "execution_count": 48,
      "outputs": []
    },
    {
      "cell_type": "code",
      "source": [
        "des = []\n",
        "\n",
        "for mol in df['mol']:\n",
        "  des.append(Des_func.CalcDescriptors(mol))"
      ],
      "metadata": {
        "id": "qJEWY6ZIzfLZ"
      },
      "execution_count": 49,
      "outputs": []
    },
    {
      "cell_type": "code",
      "source": [
        "Final_df = pd.concat([df, pd.DataFrame(des, columns=(x[0] for x in Descriptors._descList))], axis=1)\n"
      ],
      "metadata": {
        "id": "GmoJzVnEzjrz"
      },
      "execution_count": 50,
      "outputs": []
    },
    {
      "cell_type": "code",
      "source": [
        "Final_df.head()"
      ],
      "metadata": {
        "colab": {
          "base_uri": "https://localhost:8080/",
          "height": 429
        },
        "id": "FGrzkvkIzvNH",
        "outputId": "596bd92f-6157-481b-aae6-08fab920d431"
      },
      "execution_count": 51,
      "outputs": [
        {
          "output_type": "execute_result",
          "data": {
            "text/plain": [
              "         Smiles                                               mol  \\\n",
              "0    CN1C=CC=C1  <rdkit.Chem.rdchem.Mol object at 0x7ee5b5629310>   \n",
              "1     C1=CC=CN1  <rdkit.Chem.rdchem.Mol object at 0x7ee5b5629070>   \n",
              "2   C1=CN=CC=C1  <rdkit.Chem.rdchem.Mol object at 0x7ee5b5628d60>   \n",
              "3  CC1=NC=CC=C1  <rdkit.Chem.rdchem.Mol object at 0x7ee5b56291c0>   \n",
              "4  CC1=CC=NC=C1  <rdkit.Chem.rdchem.Mol object at 0x7ee5b5628c80>   \n",
              "\n",
              "   MaxEStateIndex  MinEStateIndex  MaxAbsEStateIndex  MinAbsEStateIndex  \\\n",
              "0        7.188079       -2.663426           7.188079           0.386574   \n",
              "1        6.969907       -0.407407           6.969907           0.361111   \n",
              "2        7.070741       -0.420370           7.070741           0.397222   \n",
              "3        7.275116       -2.614699           7.275116           0.525000   \n",
              "4        7.275116       -2.650093           7.275116           0.581019   \n",
              "\n",
              "        qed   MolWt  HeavyAtomMolWt  ExactMolWt  ...  fr_sulfide  \\\n",
              "0  0.439206  81.118          74.062   81.057849  ...           0   \n",
              "1  0.465869  67.091          62.051   67.042199  ...           0   \n",
              "2  0.453148  79.102          74.062   79.042199  ...           0   \n",
              "3  0.471998  93.129          86.073   93.057849  ...           0   \n",
              "4  0.471998  93.129          86.073   93.057849  ...           0   \n",
              "\n",
              "   fr_sulfonamd  fr_sulfone  fr_term_acetylene  fr_tetrazole  fr_thiazole  \\\n",
              "0             0           0                  0             0            0   \n",
              "1             0           0                  0             0            0   \n",
              "2             0           0                  0             0            0   \n",
              "3             0           0                  0             0            0   \n",
              "4             0           0                  0             0            0   \n",
              "\n",
              "   fr_thiocyan  fr_thiophene  fr_unbrch_alkane  fr_urea  \n",
              "0            0             0                 0        0  \n",
              "1            0             0                 0        0  \n",
              "2            0             0                 0        0  \n",
              "3            0             0                 0        0  \n",
              "4            0             0                 0        0  \n",
              "\n",
              "[5 rows x 210 columns]"
            ],
            "text/html": [
              "\n",
              "  <div id=\"df-24a1e582-7d63-416a-bc10-dfb73154de30\" class=\"colab-df-container\">\n",
              "    <div>\n",
              "<style scoped>\n",
              "    .dataframe tbody tr th:only-of-type {\n",
              "        vertical-align: middle;\n",
              "    }\n",
              "\n",
              "    .dataframe tbody tr th {\n",
              "        vertical-align: top;\n",
              "    }\n",
              "\n",
              "    .dataframe thead th {\n",
              "        text-align: right;\n",
              "    }\n",
              "</style>\n",
              "<table border=\"1\" class=\"dataframe\">\n",
              "  <thead>\n",
              "    <tr style=\"text-align: right;\">\n",
              "      <th></th>\n",
              "      <th>Smiles</th>\n",
              "      <th>mol</th>\n",
              "      <th>MaxEStateIndex</th>\n",
              "      <th>MinEStateIndex</th>\n",
              "      <th>MaxAbsEStateIndex</th>\n",
              "      <th>MinAbsEStateIndex</th>\n",
              "      <th>qed</th>\n",
              "      <th>MolWt</th>\n",
              "      <th>HeavyAtomMolWt</th>\n",
              "      <th>ExactMolWt</th>\n",
              "      <th>...</th>\n",
              "      <th>fr_sulfide</th>\n",
              "      <th>fr_sulfonamd</th>\n",
              "      <th>fr_sulfone</th>\n",
              "      <th>fr_term_acetylene</th>\n",
              "      <th>fr_tetrazole</th>\n",
              "      <th>fr_thiazole</th>\n",
              "      <th>fr_thiocyan</th>\n",
              "      <th>fr_thiophene</th>\n",
              "      <th>fr_unbrch_alkane</th>\n",
              "      <th>fr_urea</th>\n",
              "    </tr>\n",
              "  </thead>\n",
              "  <tbody>\n",
              "    <tr>\n",
              "      <th>0</th>\n",
              "      <td>CN1C=CC=C1</td>\n",
              "      <td>&lt;rdkit.Chem.rdchem.Mol object at 0x7ee5b5629310&gt;</td>\n",
              "      <td>7.188079</td>\n",
              "      <td>-2.663426</td>\n",
              "      <td>7.188079</td>\n",
              "      <td>0.386574</td>\n",
              "      <td>0.439206</td>\n",
              "      <td>81.118</td>\n",
              "      <td>74.062</td>\n",
              "      <td>81.057849</td>\n",
              "      <td>...</td>\n",
              "      <td>0</td>\n",
              "      <td>0</td>\n",
              "      <td>0</td>\n",
              "      <td>0</td>\n",
              "      <td>0</td>\n",
              "      <td>0</td>\n",
              "      <td>0</td>\n",
              "      <td>0</td>\n",
              "      <td>0</td>\n",
              "      <td>0</td>\n",
              "    </tr>\n",
              "    <tr>\n",
              "      <th>1</th>\n",
              "      <td>C1=CC=CN1</td>\n",
              "      <td>&lt;rdkit.Chem.rdchem.Mol object at 0x7ee5b5629070&gt;</td>\n",
              "      <td>6.969907</td>\n",
              "      <td>-0.407407</td>\n",
              "      <td>6.969907</td>\n",
              "      <td>0.361111</td>\n",
              "      <td>0.465869</td>\n",
              "      <td>67.091</td>\n",
              "      <td>62.051</td>\n",
              "      <td>67.042199</td>\n",
              "      <td>...</td>\n",
              "      <td>0</td>\n",
              "      <td>0</td>\n",
              "      <td>0</td>\n",
              "      <td>0</td>\n",
              "      <td>0</td>\n",
              "      <td>0</td>\n",
              "      <td>0</td>\n",
              "      <td>0</td>\n",
              "      <td>0</td>\n",
              "      <td>0</td>\n",
              "    </tr>\n",
              "    <tr>\n",
              "      <th>2</th>\n",
              "      <td>C1=CN=CC=C1</td>\n",
              "      <td>&lt;rdkit.Chem.rdchem.Mol object at 0x7ee5b5628d60&gt;</td>\n",
              "      <td>7.070741</td>\n",
              "      <td>-0.420370</td>\n",
              "      <td>7.070741</td>\n",
              "      <td>0.397222</td>\n",
              "      <td>0.453148</td>\n",
              "      <td>79.102</td>\n",
              "      <td>74.062</td>\n",
              "      <td>79.042199</td>\n",
              "      <td>...</td>\n",
              "      <td>0</td>\n",
              "      <td>0</td>\n",
              "      <td>0</td>\n",
              "      <td>0</td>\n",
              "      <td>0</td>\n",
              "      <td>0</td>\n",
              "      <td>0</td>\n",
              "      <td>0</td>\n",
              "      <td>0</td>\n",
              "      <td>0</td>\n",
              "    </tr>\n",
              "    <tr>\n",
              "      <th>3</th>\n",
              "      <td>CC1=NC=CC=C1</td>\n",
              "      <td>&lt;rdkit.Chem.rdchem.Mol object at 0x7ee5b56291c0&gt;</td>\n",
              "      <td>7.275116</td>\n",
              "      <td>-2.614699</td>\n",
              "      <td>7.275116</td>\n",
              "      <td>0.525000</td>\n",
              "      <td>0.471998</td>\n",
              "      <td>93.129</td>\n",
              "      <td>86.073</td>\n",
              "      <td>93.057849</td>\n",
              "      <td>...</td>\n",
              "      <td>0</td>\n",
              "      <td>0</td>\n",
              "      <td>0</td>\n",
              "      <td>0</td>\n",
              "      <td>0</td>\n",
              "      <td>0</td>\n",
              "      <td>0</td>\n",
              "      <td>0</td>\n",
              "      <td>0</td>\n",
              "      <td>0</td>\n",
              "    </tr>\n",
              "    <tr>\n",
              "      <th>4</th>\n",
              "      <td>CC1=CC=NC=C1</td>\n",
              "      <td>&lt;rdkit.Chem.rdchem.Mol object at 0x7ee5b5628c80&gt;</td>\n",
              "      <td>7.275116</td>\n",
              "      <td>-2.650093</td>\n",
              "      <td>7.275116</td>\n",
              "      <td>0.581019</td>\n",
              "      <td>0.471998</td>\n",
              "      <td>93.129</td>\n",
              "      <td>86.073</td>\n",
              "      <td>93.057849</td>\n",
              "      <td>...</td>\n",
              "      <td>0</td>\n",
              "      <td>0</td>\n",
              "      <td>0</td>\n",
              "      <td>0</td>\n",
              "      <td>0</td>\n",
              "      <td>0</td>\n",
              "      <td>0</td>\n",
              "      <td>0</td>\n",
              "      <td>0</td>\n",
              "      <td>0</td>\n",
              "    </tr>\n",
              "  </tbody>\n",
              "</table>\n",
              "<p>5 rows × 210 columns</p>\n",
              "</div>\n",
              "    <div class=\"colab-df-buttons\">\n",
              "\n",
              "  <div class=\"colab-df-container\">\n",
              "    <button class=\"colab-df-convert\" onclick=\"convertToInteractive('df-24a1e582-7d63-416a-bc10-dfb73154de30')\"\n",
              "            title=\"Convert this dataframe to an interactive table.\"\n",
              "            style=\"display:none;\">\n",
              "\n",
              "  <svg xmlns=\"http://www.w3.org/2000/svg\" height=\"24px\" viewBox=\"0 -960 960 960\">\n",
              "    <path d=\"M120-120v-720h720v720H120Zm60-500h600v-160H180v160Zm220 220h160v-160H400v160Zm0 220h160v-160H400v160ZM180-400h160v-160H180v160Zm440 0h160v-160H620v160ZM180-180h160v-160H180v160Zm440 0h160v-160H620v160Z\"/>\n",
              "  </svg>\n",
              "    </button>\n",
              "\n",
              "  <style>\n",
              "    .colab-df-container {\n",
              "      display:flex;\n",
              "      gap: 12px;\n",
              "    }\n",
              "\n",
              "    .colab-df-convert {\n",
              "      background-color: #E8F0FE;\n",
              "      border: none;\n",
              "      border-radius: 50%;\n",
              "      cursor: pointer;\n",
              "      display: none;\n",
              "      fill: #1967D2;\n",
              "      height: 32px;\n",
              "      padding: 0 0 0 0;\n",
              "      width: 32px;\n",
              "    }\n",
              "\n",
              "    .colab-df-convert:hover {\n",
              "      background-color: #E2EBFA;\n",
              "      box-shadow: 0px 1px 2px rgba(60, 64, 67, 0.3), 0px 1px 3px 1px rgba(60, 64, 67, 0.15);\n",
              "      fill: #174EA6;\n",
              "    }\n",
              "\n",
              "    .colab-df-buttons div {\n",
              "      margin-bottom: 4px;\n",
              "    }\n",
              "\n",
              "    [theme=dark] .colab-df-convert {\n",
              "      background-color: #3B4455;\n",
              "      fill: #D2E3FC;\n",
              "    }\n",
              "\n",
              "    [theme=dark] .colab-df-convert:hover {\n",
              "      background-color: #434B5C;\n",
              "      box-shadow: 0px 1px 3px 1px rgba(0, 0, 0, 0.15);\n",
              "      filter: drop-shadow(0px 1px 2px rgba(0, 0, 0, 0.3));\n",
              "      fill: #FFFFFF;\n",
              "    }\n",
              "  </style>\n",
              "\n",
              "    <script>\n",
              "      const buttonEl =\n",
              "        document.querySelector('#df-24a1e582-7d63-416a-bc10-dfb73154de30 button.colab-df-convert');\n",
              "      buttonEl.style.display =\n",
              "        google.colab.kernel.accessAllowed ? 'block' : 'none';\n",
              "\n",
              "      async function convertToInteractive(key) {\n",
              "        const element = document.querySelector('#df-24a1e582-7d63-416a-bc10-dfb73154de30');\n",
              "        const dataTable =\n",
              "          await google.colab.kernel.invokeFunction('convertToInteractive',\n",
              "                                                    [key], {});\n",
              "        if (!dataTable) return;\n",
              "\n",
              "        const docLinkHtml = 'Like what you see? Visit the ' +\n",
              "          '<a target=\"_blank\" href=https://colab.research.google.com/notebooks/data_table.ipynb>data table notebook</a>'\n",
              "          + ' to learn more about interactive tables.';\n",
              "        element.innerHTML = '';\n",
              "        dataTable['output_type'] = 'display_data';\n",
              "        await google.colab.output.renderOutput(dataTable, element);\n",
              "        const docLink = document.createElement('div');\n",
              "        docLink.innerHTML = docLinkHtml;\n",
              "        element.appendChild(docLink);\n",
              "      }\n",
              "    </script>\n",
              "  </div>\n",
              "\n",
              "\n",
              "<div id=\"df-195e0846-e309-44f0-be47-c6879fa08d1d\">\n",
              "  <button class=\"colab-df-quickchart\" onclick=\"quickchart('df-195e0846-e309-44f0-be47-c6879fa08d1d')\"\n",
              "            title=\"Suggest charts\"\n",
              "            style=\"display:none;\">\n",
              "\n",
              "<svg xmlns=\"http://www.w3.org/2000/svg\" height=\"24px\"viewBox=\"0 0 24 24\"\n",
              "     width=\"24px\">\n",
              "    <g>\n",
              "        <path d=\"M19 3H5c-1.1 0-2 .9-2 2v14c0 1.1.9 2 2 2h14c1.1 0 2-.9 2-2V5c0-1.1-.9-2-2-2zM9 17H7v-7h2v7zm4 0h-2V7h2v10zm4 0h-2v-4h2v4z\"/>\n",
              "    </g>\n",
              "</svg>\n",
              "  </button>\n",
              "\n",
              "<style>\n",
              "  .colab-df-quickchart {\n",
              "      --bg-color: #E8F0FE;\n",
              "      --fill-color: #1967D2;\n",
              "      --hover-bg-color: #E2EBFA;\n",
              "      --hover-fill-color: #174EA6;\n",
              "      --disabled-fill-color: #AAA;\n",
              "      --disabled-bg-color: #DDD;\n",
              "  }\n",
              "\n",
              "  [theme=dark] .colab-df-quickchart {\n",
              "      --bg-color: #3B4455;\n",
              "      --fill-color: #D2E3FC;\n",
              "      --hover-bg-color: #434B5C;\n",
              "      --hover-fill-color: #FFFFFF;\n",
              "      --disabled-bg-color: #3B4455;\n",
              "      --disabled-fill-color: #666;\n",
              "  }\n",
              "\n",
              "  .colab-df-quickchart {\n",
              "    background-color: var(--bg-color);\n",
              "    border: none;\n",
              "    border-radius: 50%;\n",
              "    cursor: pointer;\n",
              "    display: none;\n",
              "    fill: var(--fill-color);\n",
              "    height: 32px;\n",
              "    padding: 0;\n",
              "    width: 32px;\n",
              "  }\n",
              "\n",
              "  .colab-df-quickchart:hover {\n",
              "    background-color: var(--hover-bg-color);\n",
              "    box-shadow: 0 1px 2px rgba(60, 64, 67, 0.3), 0 1px 3px 1px rgba(60, 64, 67, 0.15);\n",
              "    fill: var(--button-hover-fill-color);\n",
              "  }\n",
              "\n",
              "  .colab-df-quickchart-complete:disabled,\n",
              "  .colab-df-quickchart-complete:disabled:hover {\n",
              "    background-color: var(--disabled-bg-color);\n",
              "    fill: var(--disabled-fill-color);\n",
              "    box-shadow: none;\n",
              "  }\n",
              "\n",
              "  .colab-df-spinner {\n",
              "    border: 2px solid var(--fill-color);\n",
              "    border-color: transparent;\n",
              "    border-bottom-color: var(--fill-color);\n",
              "    animation:\n",
              "      spin 1s steps(1) infinite;\n",
              "  }\n",
              "\n",
              "  @keyframes spin {\n",
              "    0% {\n",
              "      border-color: transparent;\n",
              "      border-bottom-color: var(--fill-color);\n",
              "      border-left-color: var(--fill-color);\n",
              "    }\n",
              "    20% {\n",
              "      border-color: transparent;\n",
              "      border-left-color: var(--fill-color);\n",
              "      border-top-color: var(--fill-color);\n",
              "    }\n",
              "    30% {\n",
              "      border-color: transparent;\n",
              "      border-left-color: var(--fill-color);\n",
              "      border-top-color: var(--fill-color);\n",
              "      border-right-color: var(--fill-color);\n",
              "    }\n",
              "    40% {\n",
              "      border-color: transparent;\n",
              "      border-right-color: var(--fill-color);\n",
              "      border-top-color: var(--fill-color);\n",
              "    }\n",
              "    60% {\n",
              "      border-color: transparent;\n",
              "      border-right-color: var(--fill-color);\n",
              "    }\n",
              "    80% {\n",
              "      border-color: transparent;\n",
              "      border-right-color: var(--fill-color);\n",
              "      border-bottom-color: var(--fill-color);\n",
              "    }\n",
              "    90% {\n",
              "      border-color: transparent;\n",
              "      border-bottom-color: var(--fill-color);\n",
              "    }\n",
              "  }\n",
              "</style>\n",
              "\n",
              "  <script>\n",
              "    async function quickchart(key) {\n",
              "      const quickchartButtonEl =\n",
              "        document.querySelector('#' + key + ' button');\n",
              "      quickchartButtonEl.disabled = true;  // To prevent multiple clicks.\n",
              "      quickchartButtonEl.classList.add('colab-df-spinner');\n",
              "      try {\n",
              "        const charts = await google.colab.kernel.invokeFunction(\n",
              "            'suggestCharts', [key], {});\n",
              "      } catch (error) {\n",
              "        console.error('Error during call to suggestCharts:', error);\n",
              "      }\n",
              "      quickchartButtonEl.classList.remove('colab-df-spinner');\n",
              "      quickchartButtonEl.classList.add('colab-df-quickchart-complete');\n",
              "    }\n",
              "    (() => {\n",
              "      let quickchartButtonEl =\n",
              "        document.querySelector('#df-195e0846-e309-44f0-be47-c6879fa08d1d button');\n",
              "      quickchartButtonEl.style.display =\n",
              "        google.colab.kernel.accessAllowed ? 'block' : 'none';\n",
              "    })();\n",
              "  </script>\n",
              "</div>\n",
              "\n",
              "    </div>\n",
              "  </div>\n"
            ]
          },
          "metadata": {},
          "execution_count": 51
        }
      ]
    },
    {
      "cell_type": "code",
      "source": [
        "Final_df.drop('mol', axis=1).to_excel('final.xlsx', index=None)"
      ],
      "metadata": {
        "id": "vIC4HeBr1iLR"
      },
      "execution_count": 52,
      "outputs": []
    },
    {
      "cell_type": "code",
      "source": [],
      "metadata": {
        "id": "fNvyL5oQw0SB"
      },
      "execution_count": null,
      "outputs": []
    }
  ]
}